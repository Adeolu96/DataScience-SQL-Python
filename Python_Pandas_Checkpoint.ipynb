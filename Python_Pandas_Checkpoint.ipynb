{
 "cells": [
  {
   "cell_type": "code",
   "execution_count": null,
   "id": "a1a356ca-40d4-4afa-a66a-ff5ab94cdd8d",
   "metadata": {},
   "outputs": [],
   "source": [
    "#In this exercise, you will work with a dataset called \"employee info\" that contains information about employees in a company. The dataset includes columns such as Name, Department, Age, Gender, Salary, and Experience.\n",
    "#Instructions\n",
    "#Create a dataframe called \"employee_df\" with the following data:\n",
    "#Use the iloc method to select the first 3 rows of the dataframe.\n",
    "#Use the loc method to select all rows where the Department is \"Marketing\".\n",
    "#Use the iloc method to select the Age and Gender columns for the first 4 rows of the dataframe.\n",
    "#Use the loc method to select the Salary and Experience columns for all rows where the Gender is \"Male\"."
   ]
  },
  {
   "cell_type": "code",
   "execution_count": 1,
   "id": "865fa33f-535f-4d9f-9d5f-53d0b7643010",
   "metadata": {},
   "outputs": [],
   "source": [
    "import pandas as pd\n",
    "import numpy as np"
   ]
  },
  {
   "cell_type": "code",
   "execution_count": 4,
   "id": "5ceee906-70e2-424a-befb-fa6991ea74a3",
   "metadata": {},
   "outputs": [
    {
     "data": {
      "text/html": [
       "<div>\n",
       "<style scoped>\n",
       "    .dataframe tbody tr th:only-of-type {\n",
       "        vertical-align: middle;\n",
       "    }\n",
       "\n",
       "    .dataframe tbody tr th {\n",
       "        vertical-align: top;\n",
       "    }\n",
       "\n",
       "    .dataframe thead th {\n",
       "        text-align: right;\n",
       "    }\n",
       "</style>\n",
       "<table border=\"1\" class=\"dataframe\">\n",
       "  <thead>\n",
       "    <tr style=\"text-align: right;\">\n",
       "      <th></th>\n",
       "      <th>Name</th>\n",
       "      <th>Department</th>\n",
       "      <th>Age</th>\n",
       "      <th>Gender</th>\n",
       "      <th>Salary</th>\n",
       "      <th>Experience</th>\n",
       "    </tr>\n",
       "  </thead>\n",
       "  <tbody>\n",
       "    <tr>\n",
       "      <th>0</th>\n",
       "      <td>John</td>\n",
       "      <td>IT</td>\n",
       "      <td>30</td>\n",
       "      <td>Male</td>\n",
       "      <td>50000</td>\n",
       "      <td>3</td>\n",
       "    </tr>\n",
       "    <tr>\n",
       "      <th>1</th>\n",
       "      <td>Mary</td>\n",
       "      <td>Marketing</td>\n",
       "      <td>40</td>\n",
       "      <td>Female</td>\n",
       "      <td>60000</td>\n",
       "      <td>7</td>\n",
       "    </tr>\n",
       "    <tr>\n",
       "      <th>2</th>\n",
       "      <td>Bob</td>\n",
       "      <td>Sales</td>\n",
       "      <td>25</td>\n",
       "      <td>Male</td>\n",
       "      <td>45000</td>\n",
       "      <td>2</td>\n",
       "    </tr>\n",
       "    <tr>\n",
       "      <th>3</th>\n",
       "      <td>Sarah</td>\n",
       "      <td>IT</td>\n",
       "      <td>35</td>\n",
       "      <td>Female</td>\n",
       "      <td>55000</td>\n",
       "      <td>5</td>\n",
       "    </tr>\n",
       "    <tr>\n",
       "      <th>4</th>\n",
       "      <td>Tom</td>\n",
       "      <td>Finance</td>\n",
       "      <td>45</td>\n",
       "      <td>Male</td>\n",
       "      <td>70000</td>\n",
       "      <td>10</td>\n",
       "    </tr>\n",
       "    <tr>\n",
       "      <th>5</th>\n",
       "      <td>Lisa</td>\n",
       "      <td>Marketing</td>\n",
       "      <td>28</td>\n",
       "      <td>Female</td>\n",
       "      <td>55000</td>\n",
       "      <td>4</td>\n",
       "    </tr>\n",
       "  </tbody>\n",
       "</table>\n",
       "</div>"
      ],
      "text/plain": [
       "    Name Department  Age  Gender  Salary  Experience\n",
       "0   John         IT   30    Male   50000           3\n",
       "1   Mary  Marketing   40  Female   60000           7\n",
       "2    Bob      Sales   25    Male   45000           2\n",
       "3  Sarah         IT   35  Female   55000           5\n",
       "4    Tom    Finance   45    Male   70000          10\n",
       "5   Lisa  Marketing   28  Female   55000           4"
      ]
     },
     "execution_count": 4,
     "metadata": {},
     "output_type": "execute_result"
    }
   ],
   "source": [
    "#Create a dataframe called \"employee_df\" with the following data\n",
    "data = {'Name': ['John', 'Mary', 'Bob', 'Sarah', 'Tom', 'Lisa'], \n",
    "        'Department': ['IT', 'Marketing', 'Sales', 'IT', 'Finance', 'Marketing'], \n",
    "        'Age': [30, 40, 25, 35, 45, 28], \n",
    "        'Gender': ['Male', 'Female', 'Male', 'Female', 'Male', 'Female'], \n",
    "        'Salary': [50000, 60000, 45000, 55000, 70000, 55000], \n",
    "        'Experience': [3, 7, 2, 5, 10, 4]}\n",
    "\n",
    "employee_df = pd.DataFrame(data)\n",
    "employee_df"
   ]
  },
  {
   "cell_type": "code",
   "execution_count": 5,
   "id": "fad377be-688b-469a-95b0-9135878bdd8d",
   "metadata": {},
   "outputs": [
    {
     "name": "stdout",
     "output_type": "stream",
     "text": [
      "   Name Department  Age  Gender  Salary  Experience\n",
      "0  John         IT   30    Male   50000           3\n",
      "1  Mary  Marketing   40  Female   60000           7\n",
      "2   Bob      Sales   25    Male   45000           2\n"
     ]
    }
   ],
   "source": [
    "#Use the iloc method to select the first 3 rows of the dataframe.\n",
    "first_three_rows = employee_df.iloc[:3]\n",
    "print(first_three_rows)"
   ]
  },
  {
   "cell_type": "code",
   "execution_count": 6,
   "id": "971f7b82-bcf9-4e90-9a01-2d4d18c08071",
   "metadata": {},
   "outputs": [
    {
     "name": "stdout",
     "output_type": "stream",
     "text": [
      "   Name Department  Age  Gender  Salary  Experience\n",
      "1  Mary  Marketing   40  Female   60000           7\n",
      "5  Lisa  Marketing   28  Female   55000           4\n"
     ]
    }
   ],
   "source": [
    "#Use the loc method to select all rows where the Department is \"Marketing\".\n",
    "marketing_department = employee_df.loc[employee_df['Department'] == 'Marketing']\n",
    "print(marketing_department)"
   ]
  },
  {
   "cell_type": "code",
   "execution_count": 7,
   "id": "454faa78-8399-4473-8ac8-7439a8bffe47",
   "metadata": {},
   "outputs": [
    {
     "name": "stdout",
     "output_type": "stream",
     "text": [
      "   Age  Gender\n",
      "0   30    Male\n",
      "1   40  Female\n",
      "2   25    Male\n",
      "3   35  Female\n"
     ]
    }
   ],
   "source": [
    "#Use the iloc method to select the Age and Gender columns for the first 4 rows of the dataframe.\n",
    "age_gender_first_four = employee_df.iloc[:4, [2, 3]]  # Columns 2 and 3 correspond to Age and Gender\n",
    "print(age_gender_first_four)"
   ]
  },
  {
   "cell_type": "code",
   "execution_count": 8,
   "id": "d6c5e4ec-1fa7-41dc-9f80-d08a31bf47ad",
   "metadata": {},
   "outputs": [
    {
     "name": "stdout",
     "output_type": "stream",
     "text": [
      "   Salary  Experience\n",
      "0   50000           3\n",
      "2   45000           2\n",
      "4   70000          10\n"
     ]
    }
   ],
   "source": [
    "#Use the loc method to select the Salary and Experience columns for all rows where the Gender is \"Male\".\n",
    "male_salary_experience = employee_df.loc[employee_df['Gender'] == 'Male', ['Salary', 'Experience']]\n",
    "print(male_salary_experience)"
   ]
  }
 ],
 "metadata": {
  "kernelspec": {
   "display_name": "Python 3 (ipykernel)",
   "language": "python",
   "name": "python3"
  },
  "language_info": {
   "codemirror_mode": {
    "name": "ipython",
    "version": 3
   },
   "file_extension": ".py",
   "mimetype": "text/x-python",
   "name": "python",
   "nbconvert_exporter": "python",
   "pygments_lexer": "ipython3",
   "version": "3.12.4"
  }
 },
 "nbformat": 4,
 "nbformat_minor": 5
}
