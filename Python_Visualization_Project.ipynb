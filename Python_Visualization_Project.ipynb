{
 "cells": [
  {
   "cell_type": "code",
   "execution_count": null,
   "id": "83dde204-0d1f-4466-a43b-1b8037b07be9",
   "metadata": {},
   "outputs": [],
   "source": [
    "What You're Aiming For\n",
    "\n",
    "The Interactive Python Quiz Game is a text-based application that presents a series of multiple-choice questions to the user. The game provides instant feedback on each answer and keeps track of the user's score throughout the quiz. This project can be further enhanced with additional features such as random question order, a timer for each question, high score tracking, and a graphical user interface (GUI) using libraries like tkinter.\n",
    "\n",
    "Note: This checkpoint is optional.\n",
    "\n",
    "\n",
    "Instructions\n",
    "\n",
    "Question and Answer Handling:\n",
    "\n",
    "Display multiple-choice questions to the user.\n",
    "Capture and validate user inputs.\n",
    "Provide immediate feedback on the correctness of answers.\n",
    "Score Tracking:\n",
    "\n",
    "Keep track of the user's score throughout the quiz.\n",
    "Display the final score at the end of the quiz.\n",
    "Randomization:\n",
    "\n",
    "Randomly shuffle the order of questions for each game session to enhance replayability.\n",
    "User Interaction:\n",
    "\n",
    "Simple and intuitive user prompts to navigate through the quiz.\n",
    "Optional Enhancements:\n",
    "\n",
    "Implement a timer for each question to add a time-based challenge.\n",
    "Store and display high scores from previous sessions.\n",
    "Develop a graphical user interface (GUI) using tkinter for a more interactive experience."
   ]
  },
  {
   "cell_type": "code",
   "execution_count": null,
   "id": "ae8ab8a6-c7dd-474f-8e02-ae14b44b883c",
   "metadata": {},
   "outputs": [],
   "source": [
    "Step 1: Basic Question and Answer Handling\n",
    "Question Display: Define a list of questions, each containing multiple-choice options and the correct answer.\n",
    "User Input: Prompt the user to choose an answer.\n",
    "Feedback: Let the user know if their answer was correct or not and store the result.\n",
    "Example code snippet:"
   ]
  },
  {
   "cell_type": "code",
   "execution_count": 29,
   "id": "788c895a-0a34-4295-81f3-1a6eab4b388f",
   "metadata": {},
   "outputs": [
    {
     "name": "stdout",
     "output_type": "stream",
     "text": [
      "What is the capital of France?\n",
      "A. Berlin\n",
      "B. Paris\n",
      "C. Rome\n",
      "D. Madrid\n"
     ]
    },
    {
     "name": "stdin",
     "output_type": "stream",
     "text": [
      "Choose the correct option (A/B/C/D):  B\n"
     ]
    },
    {
     "name": "stdout",
     "output_type": "stream",
     "text": [
      "Correct!\n",
      "\n",
      "Which planet is known as the Red Planet?\n",
      "A. Earth\n",
      "B. Jupiter\n",
      "C. Mars\n",
      "D. Venus\n"
     ]
    },
    {
     "name": "stdin",
     "output_type": "stream",
     "text": [
      "Choose the correct option (A/B/C/D):  C\n"
     ]
    },
    {
     "name": "stdout",
     "output_type": "stream",
     "text": [
      "Correct!\n",
      "\n"
     ]
    }
   ],
   "source": [
    "questions = [\n",
    "    {\n",
    "        \"question\": \"What is the capital of France?\",\n",
    "        \"options\": [\"A. Berlin\", \"B. Paris\", \"C. Rome\", \"D. Madrid\"],\n",
    "        \"answer\": \"B\"\n",
    "    },\n",
    "    {\n",
    "        \"question\": \"Which planet is known as the Red Planet?\",\n",
    "        \"options\": [\"A. Earth\", \"B. Jupiter\", \"C. Mars\", \"D. Venus\"],\n",
    "        \"answer\": \"C\"\n",
    "    }\n",
    "]\n",
    "\n",
    "def ask_question(q):\n",
    "    print(q[\"question\"])\n",
    "    for option in q[\"options\"]:\n",
    "        print(option)\n",
    "    answer = input(\"Choose the correct option (A/B/C/D): \").upper()\n",
    "    return answer == q[\"answer\"]\n",
    "\n",
    "for question in questions:\n",
    "    correct = ask_question(question)\n",
    "    if correct:\n",
    "        print(\"Correct!\\n\")\n",
    "    else:\n",
    "        print(\"Incorrect!\\n\")\n"
   ]
  },
  {
   "cell_type": "code",
   "execution_count": null,
   "id": "351dd614-a228-4b69-a4d5-95b6dca8894e",
   "metadata": {},
   "outputs": [],
   "source": [
    "Step 2: Score Tracking\n",
    "Track the user’s score by initializing a score variable and updating it based on correct answers. Display the score at the end.\n",
    "Example addition:"
   ]
  },
  {
   "cell_type": "code",
   "execution_count": 30,
   "id": "6e415c9a-69b6-426b-a2b8-ae852db79c3a",
   "metadata": {},
   "outputs": [
    {
     "name": "stdout",
     "output_type": "stream",
     "text": [
      "What is the capital of France?\n",
      "A. Berlin\n",
      "B. Paris\n",
      "C. Rome\n",
      "D. Madrid\n"
     ]
    },
    {
     "name": "stdin",
     "output_type": "stream",
     "text": [
      "Choose the correct option (A/B/C/D):  B\n"
     ]
    },
    {
     "name": "stdout",
     "output_type": "stream",
     "text": [
      "Correct!\n",
      "\n",
      "Which planet is known as the Red Planet?\n",
      "A. Earth\n",
      "B. Jupiter\n",
      "C. Mars\n",
      "D. Venus\n"
     ]
    },
    {
     "name": "stdin",
     "output_type": "stream",
     "text": [
      "Choose the correct option (A/B/C/D):  C\n"
     ]
    },
    {
     "name": "stdout",
     "output_type": "stream",
     "text": [
      "Correct!\n",
      "\n",
      "Your final score is: 2/2\n"
     ]
    }
   ],
   "source": [
    "score = 0\n",
    "\n",
    "for question in questions:\n",
    "    if ask_question(question):\n",
    "        print(\"Correct!\\n\")\n",
    "        score += 1\n",
    "    else:\n",
    "        print(\"Incorrect!\\n\")\n",
    "\n",
    "print(f\"Your final score is: {score}/{len(questions)}\")\n"
   ]
  },
  {
   "cell_type": "code",
   "execution_count": null,
   "id": "40591902-b551-43ee-862e-b9c3a908d623",
   "metadata": {},
   "outputs": [],
   "source": [
    "Step 3: Randomization of Questions\n",
    "Use Python’s random.shuffle() to shuffle the questions list, enhancing replayability.\n",
    "Example code:"
   ]
  },
  {
   "cell_type": "code",
   "execution_count": 31,
   "id": "c21a3f80-e2db-4d56-80ac-675ddd941fc1",
   "metadata": {},
   "outputs": [],
   "source": [
    "import random\n",
    "random.shuffle(questions)"
   ]
  },
  {
   "cell_type": "code",
   "execution_count": null,
   "id": "6d166b33-eb00-41ee-89e2-3e059b728e13",
   "metadata": {},
   "outputs": [],
   "source": [
    "Step 4: User Interaction\n",
    "Provide clear instructions for the user. For example:\n",
    "\n",
    "Welcome message\n",
    "Directions on how to answer questions\n",
    "Final score display\n",
    "Step 5: Optional Enhancements\n",
    "Timer for Each Question:\n",
    "\n",
    "Use the time module to set a time limit for each question. If the time is exceeded, mark the answer as incorrect.\n",
    "High Score Tracking:\n",
    "\n",
    "Store high scores in a file, read them at the start of each game, and update the file with the new high score if it’s beaten.\n",
    "Graphical User Interface (GUI) with Tkinter:\n",
    "\n",
    "Tkinter can be used to create a GUI version of the quiz. This will allow buttons for answer choices and visual feedback for correctness.\n",
    "Example Timer Code:"
   ]
  },
  {
   "cell_type": "code",
   "execution_count": null,
   "id": "18a9e243-a305-4304-be24-17b221c0091c",
   "metadata": {},
   "outputs": [],
   "source": [
    "import time\n",
    "\n",
    "def ask_question_with_timer(q):\n",
    "    print(q[\"question\"])\n",
    "    for option in q[\"options\"]:\n",
    "        print(option)\n",
    "    start_time = time.time()\n",
    "    answer = input(\"Choose the correct option (A/B/C/D): \").upper()\n",
    "    if time.time() - start_time > 10:  # 10 seconds limit\n",
    "        print(\"Time's up!\")\n",
    "        return False\n",
    "    return answer == q[\"answer\"]\n"
   ]
  }
 ],
 "metadata": {
  "kernelspec": {
   "display_name": "Python 3 (ipykernel)",
   "language": "python",
   "name": "python3"
  },
  "language_info": {
   "codemirror_mode": {
    "name": "ipython",
    "version": 3
   },
   "file_extension": ".py",
   "mimetype": "text/x-python",
   "name": "python",
   "nbconvert_exporter": "python",
   "pygments_lexer": "ipython3",
   "version": "3.12.4"
  }
 },
 "nbformat": 4,
 "nbformat_minor": 5
}
