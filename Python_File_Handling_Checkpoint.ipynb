{
 "cells": [
  {
   "cell_type": "code",
   "execution_count": null,
   "id": "e104b3b2-1751-41ec-ac62-9a0e07d671de",
   "metadata": {},
   "outputs": [],
   "source": [
    "#Begin by importing the necessary libraries, numpy.\n",
    "#Use the open() function to open csv file and assign the result to a variable.\n",
    "#Use the numpy array to perform some basic statistical analysis on the data, such as finding the mean, median, and standard deviation of the loan amounts.\n",
    "#Note:\n",
    "#Be sure to close the file after you have finished reading it in with the open() function.\n",
    "#Use the delimiter parameter in the genfromtxt() function to specify that the values in the file are separated by commas.\n",
    "#You can use the numpy functions mean(), median(), and std() to find the mean, median, and standard deviation of the loan amounts."
   ]
  },
  {
   "cell_type": "code",
   "execution_count": 17,
   "id": "d3485b52-ae7f-4b06-b7ad-6d1277fb7995",
   "metadata": {},
   "outputs": [
    {
     "name": "stdout",
     "output_type": "stream",
     "text": [
      "Mean loan amount: nan\n",
      "Median loan amount: nan\n",
      "Standard deviation of loan amounts: nan\n"
     ]
    }
   ],
   "source": [
    "import numpy as np\n",
    "\n",
    "# Open the CSV file\n",
    "with open('loan_prediction_dataset.csv', 'r') as file:\n",
    "    # Read the file using genfromtxt() with comma delimiter\n",
    "    data = np.genfromtxt(file, delimiter=',')\n",
    "\n",
    "# Perform statistical analysis on the 'LoanAmount' column (assuming it's the 8th column)\n",
    "loan_amounts = data[:, 8]\n",
    "\n",
    "# Calculate mean, median, and standard deviation of the loan amounts\n",
    "mean_loan_amount = np.mean(loan_amounts)\n",
    "median_loan_amount = np.median(loan_amounts)\n",
    "std_loan_amount = np.std(loan_amounts)\n",
    "\n",
    "print(\"Mean loan amount:\", mean_loan_amount)\n",
    "print(\"Median loan amount:\", median_loan_amount)\n",
    "print(\"Standard deviation of loan amounts:\", std_loan_amount)"
   ]
  },
  {
   "cell_type": "code",
   "execution_count": null,
   "id": "08917c19-d113-4afd-a7d0-83dee7a58251",
   "metadata": {},
   "outputs": [],
   "source": []
  }
 ],
 "metadata": {
  "kernelspec": {
   "display_name": "Python 3 (ipykernel)",
   "language": "python",
   "name": "python3"
  },
  "language_info": {
   "codemirror_mode": {
    "name": "ipython",
    "version": 3
   },
   "file_extension": ".py",
   "mimetype": "text/x-python",
   "name": "python",
   "nbconvert_exporter": "python",
   "pygments_lexer": "ipython3",
   "version": "3.12.4"
  }
 },
 "nbformat": 4,
 "nbformat_minor": 5
}
