{
 "cells": [
  {
   "cell_type": "code",
   "execution_count": 1,
   "metadata": {
    "colab": {
     "base_uri": "https://localhost:8080/",
     "height": 141
    },
    "executionInfo": {
     "elapsed": 447,
     "status": "error",
     "timestamp": 1724628739880,
     "user": {
      "displayName": "Oshifeko Adeolu",
      "userId": "05074542137573946475"
     },
     "user_tz": -60
    },
    "id": "HO4dvcI817I4",
    "outputId": "8f371dd5-c146-45b5-bdad-0104e17e022e"
   },
   "outputs": [],
   "source": [
    "#Congratulations, you've got a job at Python Pizza. Your first job is to build an automatic pizza order program. Based on a user's order, work out their final bill.\n",
    "#``` Small Pizza: $15 ``` ```\n",
    "#``` Medium Pizza: $20 ```\n",
    "#``` Large Pizza: $25 ```\n",
    "#If they want to add pepperoni :\n",
    "#``` Pepperoni for Small Pizza: +$2 ```\n",
    "#``` Pepperoni for Medium or Large Pizza: +$3 ```\n",
    "#If they want cheese :\n",
    "#``` Extra cheese for any size pizza: + $1 ```"
   ]
  },
  {
   "cell_type": "code",
   "execution_count": 12,
   "metadata": {},
   "outputs": [
    {
     "name": "stdout",
     "output_type": "stream",
     "text": [
      "Welcome to Python Pizza Deliveries\n"
     ]
    },
    {
     "name": "stdin",
     "output_type": "stream",
     "text": [
      "What size pizza would you like? (S/M/L):  s\n",
      "Would you like pepperoni? (Y/N):  n\n",
      "Would you like extra cheese? (Y/N):  n\n"
     ]
    },
    {
     "name": "stdout",
     "output_type": "stream",
     "text": [
      "Your final bill is: $15\n"
     ]
    }
   ],
   "source": [
    "#Open a new file in your Python development environment or IDE\n",
    "print(\"Welcome to Python Pizza Deliveries\")\n",
    "\n",
    "#Add a line that prompts the user for the size of the pizza they want using the input() function and stores the user's input in a variable named 'size'.\n",
    "size = input(\"What size pizza would you like? (S/M/L): \")\n",
    "\n",
    "#Add a line that prompts the user if they want pepperoni on their pizza using the input() function and stores the user's input in a variable named 'add_pepperoni'\n",
    "add_pepperoni = input(\"Would you like pepperoni? (Y/N): \")\n",
    "\n",
    "#Add a line that prompts the user if they want extra cheese on their pizza using the input() function and stores the user's input in a variable named 'extra_cheese\n",
    "extra_cheese = input(\"Would you like extra cheese? (Y/N): \")\n",
    "\n",
    "# Step 5: Calculate the bill\n",
    "bill = 0\n",
    "\n",
    "# Determine base cost based on pizza size\n",
    "# Add pepperoni cost\n",
    "# Add extra cheese cost\n",
    "if size.upper() == \"S\":\n",
    "    bill += 15\n",
    "    if add_pepperoni.upper() == \"Y\":\n",
    "        bill += 2\n",
    "    if extra_cheese.upper() == \"Y\":\n",
    "        bill += 1\n",
    "elif size.upper() == \"M\":\n",
    "    bill += 20\n",
    "    if add_pepperoni.upper() == \"Y\":\n",
    "        bill += 3\n",
    "    if extra_cheese.upper() == \"Y\":\n",
    "        bill += 1\n",
    "elif size.upper() == \"L\":\n",
    "    bill += 25\n",
    "    if add_pepperoni.upper() == \"Y\":\n",
    "        bill += 3\n",
    "    if extra_cheese.upper() == \"Y\":\n",
    "        bill += 1\n",
    "# Step 6: Display the final bill\n",
    "print(\"Your final bill is: ${}\".format(bill))"
   ]
  },
  {
   "cell_type": "code",
   "execution_count": null,
   "metadata": {},
   "outputs": [],
   "source": []
  }
 ],
 "metadata": {
  "colab": {
   "authorship_tag": "ABX9TyOO1M8nIdBb0UEGOpkWWD4F",
   "provenance": []
  },
  "kernelspec": {
   "display_name": "Python 3 (ipykernel)",
   "language": "python",
   "name": "python3"
  },
  "language_info": {
   "codemirror_mode": {
    "name": "ipython",
    "version": 3
   },
   "file_extension": ".py",
   "mimetype": "text/x-python",
   "name": "python",
   "nbconvert_exporter": "python",
   "pygments_lexer": "ipython3",
   "version": "3.12.4"
  }
 },
 "nbformat": 4,
 "nbformat_minor": 4
}
