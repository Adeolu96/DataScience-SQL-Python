{
 "cells": [
  {
   "cell_type": "code",
   "execution_count": null,
   "id": "b235d5e8-19e7-4c4b-9086-6ac8d0d9a892",
   "metadata": {},
   "outputs": [],
   "source": [
    "#Create a new file called \"grades_analysis.py\"\n",
    "#Import the numpy library and create the \"grades\" array as specified above.\n",
    "#Use numpy functions to calculate the mean, median, and standard deviation of the grades.\n",
    "#Use numpy function to find the maximum and minimum of the grades.\n",
    "#Use numpy function to sort the grades in ascending order.\n",
    "#Use numpy function to find the index of the highest grade in the array.\n",
    "#Use numpy function to count the number of students who scored above 90.\n",
    "#Use numpy function to calculate the percentage of students who scored above 90.\n",
    "#Use numpy function to calculate the percentage of students who scored below 75.\n",
    "#Use numpy function to extract all the grades above 90 and put them in a new array called \"high_performers\".\n",
    "#Create a new array called \"passing_grades\" that contains all the grades above 75.\n",
    "#Print the result of all the above steps."
   ]
  },
  {
   "cell_type": "code",
   "execution_count": 2,
   "id": "1ea36b3c-89e3-4af4-a548-e38c90a77b9d",
   "metadata": {},
   "outputs": [],
   "source": [
    "#grades_analysis.py"
   ]
  },
  {
   "cell_type": "code",
   "execution_count": 4,
   "id": "dfbc4440-a088-4ec4-8c12-486bc99df3ee",
   "metadata": {},
   "outputs": [],
   "source": [
    "import numpy as np"
   ]
  },
  {
   "cell_type": "code",
   "execution_count": 10,
   "id": "e002150d-a778-476c-ba23-786ee8ed4c49",
   "metadata": {},
   "outputs": [
    {
     "name": "stdout",
     "output_type": "stream",
     "text": [
      "[85 90 88 92 95 80 75 98 89 83]\n"
     ]
    }
   ],
   "source": [
    "#Import the numpy library and create the \"grades\" array as specified above.\n",
    "grade_analysis = np.array([85, 90, 88, 92, 95, 80, 75, 98, 89, 83])\n",
    "print(grade_analysis)"
   ]
  },
  {
   "cell_type": "code",
   "execution_count": 11,
   "id": "4f536f48-8f1d-4165-b9b9-463d7d51a0b9",
   "metadata": {},
   "outputs": [
    {
     "name": "stdout",
     "output_type": "stream",
     "text": [
      "Mean of grades: 87.5\n",
      "Median of grades: 88.5\n",
      "Standard deviation of grades: 6.591661399070799\n"
     ]
    }
   ],
   "source": [
    "#Use numpy functions to calculate the mean, median, and standard deviation of the grades\n",
    "grades = grade_analysis\n",
    "# Calculate the mean of the grades\n",
    "mean_grades = np.mean(grades)\n",
    "print(\"Mean of grades:\", mean_grades)\n",
    "\n",
    "# Calculate the median of the grades\n",
    "median_grades = np.median(grades)\n",
    "print(\"Median of grades:\", median_grades)\n",
    "\n",
    "# Calculate the standard deviation of the grades\n",
    "std_dev_grades = np.std(grades)\n",
    "print(\"Standard deviation of grades:\", std_dev_grades)"
   ]
  },
  {
   "cell_type": "code",
   "execution_count": 12,
   "id": "e9cf84de-442f-4b2f-b5a7-cee47ea2551b",
   "metadata": {},
   "outputs": [
    {
     "name": "stdout",
     "output_type": "stream",
     "text": [
      "Maximum grade: 98\n",
      "Minimum grade: 75\n"
     ]
    }
   ],
   "source": [
    "#Use numpy function to find the maximum and minimum of the grades.\n",
    "# Find the maximum of the grades\n",
    "max_grade = np.max(grades)\n",
    "print(\"Maximum grade:\", max_grade)\n",
    "\n",
    "# Find the minimum of the grades\n",
    "min_grade = np.min(grades)\n",
    "print(\"Minimum grade:\", min_grade)"
   ]
  },
  {
   "cell_type": "code",
   "execution_count": 17,
   "id": "1325d5b3-18e1-479b-9a36-76b5958b78e2",
   "metadata": {},
   "outputs": [
    {
     "name": "stdout",
     "output_type": "stream",
     "text": [
      "Ascending order: [75 80 83 85 88 89 90 92 95 98]\n",
      "Descending order: [98 95 92 90 89 88 85 83 80 75]\n"
     ]
    }
   ],
   "source": [
    "#Use numpy function to sort the grades in ascending order.\n",
    "ascending_grades = np.sort(grade_analysis)\n",
    "print(\"Ascending order:\", ascending_grades)\n",
    "#Use numpy function to sort the grades in descending order.\n",
    "descending_grades = np.sort(grade_analysis)[::-1]\n",
    "print(\"Descending order:\", descending_grades)"
   ]
  },
  {
   "cell_type": "code",
   "execution_count": 22,
   "id": "8cc74bea-dc91-4a7b-a28f-ead1f30d2b32",
   "metadata": {},
   "outputs": [
    {
     "name": "stdout",
     "output_type": "stream",
     "text": [
      "Index of the highest grade: 7\n",
      "Highest grade: 98\n"
     ]
    }
   ],
   "source": [
    "#Use numpy function to find the index of the highest grade in the array.\n",
    "grade_analysis = np.array([85, 90, 88, 92, 95, 80, 75, 98, 89, 83])\n",
    "# Index the highest grade\n",
    "highest_grade_index = np.argmax(grade_analysis)\n",
    "print(\"Index of the highest grade:\", highest_grade_index)\n",
    "#Getting the highest grade value\n",
    "highest_grade = grades[highest_grade_index]\n",
    "print(\"Highest grade:\", highest_grade)"
   ]
  },
  {
   "cell_type": "code",
   "execution_count": 28,
   "id": "109f4bf1-e493-4bf6-8747-1d0dbc18f247",
   "metadata": {},
   "outputs": [
    {
     "name": "stdout",
     "output_type": "stream",
     "text": [
      "Number of students who scored above 90: 3\n"
     ]
    }
   ],
   "source": [
    "#Use numpy function to count the number of students who scored above 90.\n",
    "grade_analysis = np.array([85, 90, 88, 92, 95, 80, 75, 98, 89, 83])\n",
    "# Count the number of students who scored above 90\n",
    "score_90 = np.sum(grades > 90)\n",
    "print(\"Number of students who scored above 90:\", score_90)"
   ]
  },
  {
   "cell_type": "code",
   "execution_count": 30,
   "id": "aaf08687-11ea-4c5b-8b3f-e1a7b5afb2c9",
   "metadata": {},
   "outputs": [
    {
     "name": "stdout",
     "output_type": "stream",
     "text": [
      "Percentage of student who scored above 90: 30.0\n"
     ]
    }
   ],
   "source": [
    "#Use numpy function to calculate the percentage of students who scored above 90.\n",
    "grade_analysis = np.array([85, 90, 88, 92, 95, 80, 75, 98, 89, 83])\n",
    "# Calculate the percentage of students who scored above 90\n",
    "total_students = len(grades)\n",
    "score_90_percentage = (score_90 / total_students) * 100\n",
    "print(\"Percentage of student who scored above 90:\", score_90_percentage)"
   ]
  },
  {
   "cell_type": "code",
   "execution_count": 31,
   "id": "31103ec6-0470-48e6-b759-744d2ddc6182",
   "metadata": {},
   "outputs": [
    {
     "name": "stdout",
     "output_type": "stream",
     "text": [
      "Percentage of student who scored below 75: 0.0\n"
     ]
    }
   ],
   "source": [
    "#Use numpy function to calculate the percentage of students who scored below 75.\n",
    "grade_analysis = np.array([85, 90, 88, 92, 95, 80, 75, 98, 89, 83])\n",
    "#Calculate the number of students that scored below 75\n",
    "below_75 = np.sum(grades < 75)\n",
    "#Calculate the percentage of students who scored below 75\n",
    "below_75_percentage = (below_75/ total_students) * 100\n",
    "print(\"Percentage of student who scored below 75:\", below_75_percentage)"
   ]
  },
  {
   "cell_type": "code",
   "execution_count": 35,
   "id": "be3a5c80-1178-4e7b-bee5-b54c0830c8f4",
   "metadata": {},
   "outputs": [
    {
     "name": "stdout",
     "output_type": "stream",
     "text": [
      "High_performers: [92 95 98]\n"
     ]
    }
   ],
   "source": [
    "#Use numpy function to extract all the grades above 90 and put them in a new array called \"high_performers\".\n",
    "high_performers = grades[grades > 90]\n",
    "print(\"High_performers:\", high_performers)"
   ]
  },
  {
   "cell_type": "code",
   "execution_count": 37,
   "id": "5ed4ea53-371f-4fbf-87a7-0dcc99f431a8",
   "metadata": {},
   "outputs": [
    {
     "name": "stdout",
     "output_type": "stream",
     "text": [
      "Passing_grades: [85 90 88 92 95 80 98 89 83]\n"
     ]
    }
   ],
   "source": [
    "#Create a new array called \"passing_grades\" that contains all the grades above 75.\n",
    "passing_grades = grades[grades > 75]\n",
    "print(\"Passing_grades:\", passing_grades)"
   ]
  },
  {
   "cell_type": "code",
   "execution_count": null,
   "id": "13f91fd6-e572-4cbc-b1f6-577d0ca76335",
   "metadata": {},
   "outputs": [],
   "source": []
  }
 ],
 "metadata": {
  "kernelspec": {
   "display_name": "Python 3 (ipykernel)",
   "language": "python",
   "name": "python3"
  },
  "language_info": {
   "codemirror_mode": {
    "name": "ipython",
    "version": 3
   },
   "file_extension": ".py",
   "mimetype": "text/x-python",
   "name": "python",
   "nbconvert_exporter": "python",
   "pygments_lexer": "ipython3",
   "version": "3.12.4"
  }
 },
 "nbformat": 4,
 "nbformat_minor": 5
}
